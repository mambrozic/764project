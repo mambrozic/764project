{
 "cells": [
  {
   "cell_type": "code",
   "execution_count": 8,
   "id": "cosmetic-river",
   "metadata": {},
   "outputs": [],
   "source": [
    "import numpy as np\n",
    "import math\n",
    "import os\n",
    "import random\n",
    "import json\n",
    "from scipy.io import loadmat\n",
    "from pathlib import Path"
   ]
  },
  {
   "cell_type": "code",
   "execution_count": 9,
   "id": "sunset-treaty",
   "metadata": {},
   "outputs": [
    {
     "name": "stdout",
     "output_type": "stream",
     "text": [
      "6201 chair models found.\n"
     ]
    }
   ],
   "source": [
    "# scan for PartNet chair models\n",
    "partNet_path = 'data/PartNet_Chairs/Chair_parts/'\n",
    "models = [x.name for x in os.scandir(partNet_path)]\n",
    "print(len(models), 'chair models found.')"
   ]
  },
  {
   "cell_type": "code",
   "execution_count": 12,
   "id": "statutory-anderson",
   "metadata": {},
   "outputs": [],
   "source": [
    "# This helper function appends OBJ file content (vertices and faces) to specified output\n",
    "# vert_offset is used to correct face-to-vertex references\n",
    "def appendOBJ(obj_content, out_file, vert_offset):\n",
    "    new_vert_offset = vert_offset\n",
    "    for line in obj_content:\n",
    "        if line.startswith('v '):\n",
    "            out_file.write(line)\n",
    "            new_vert_offset += 1\n",
    "        elif line.startswith('f '):\n",
    "            params = line.split(' ')\n",
    "            v1 = int(params[1])\n",
    "            v2 = int(params[2])\n",
    "            v3 = int(params[3])\n",
    "            out_file.write('f %d %d %d\\n' % (v1+vert_offset, v2+vert_offset, v3+vert_offset))\n",
    "    return new_vert_offset"
   ]
  },
  {
   "cell_type": "code",
   "execution_count": 14,
   "id": "exclusive-translator",
   "metadata": {},
   "outputs": [
    {
     "name": "stdout",
     "output_type": "stream",
     "text": [
      "Using chair_base from chair 36328\n",
      "Using chair_back from chair 40750\n",
      "Using chair_seat from chair 38758\n",
      "Using chair_arm from chair 36908\n",
      "Output saved to file out/output.obj\n"
     ]
    }
   ],
   "source": [
    "# open output OBJ file for writing\n",
    "Path('out/').mkdir(parents=True, exist_ok=True)\n",
    "output_filename = 'out/output.obj'\n",
    "output_obj_file = open(output_filename, 'w')\n",
    "\n",
    "# offset used to correct vertex indexing in output file\n",
    "vert_offset_global = 0\n",
    "\n",
    "for label in ['chair_base', 'chair_back', 'chair_seat', 'chair_arm']:\n",
    "    # pick a random chair\n",
    "    model_idx = random.choice(models)\n",
    "    print('Using %s from chair %s' % (label, model_idx))\n",
    "    \n",
    "    # open obj file for writing (current part only)\n",
    "    output_obj_part_file = open('out/' + label + '.obj', 'w')\n",
    "    \n",
    "    # offset used to correct vertex indexing in part output file\n",
    "    vert_offset_part = 0\n",
    "    \n",
    "    # open JSON hierarchy from PartNet model and extract OBJ file names for current label\n",
    "    json_file = open(partNet_path + model_idx + '/result_after_merging.json', 'r')\n",
    "    json_content = json.load(json_file)\n",
    "    json_file.close()\n",
    "    obj_lists = [child['objs'] for child in json_content[0]['children'] if child['name'] == label]\n",
    "    if len(obj_lists) == 0:\n",
    "        print('No %s found in chair %s' % (label, model_idx))\n",
    "        \n",
    "    # append OBJ file content to part OBJ output and total OBJ output\n",
    "    for obj_list in obj_lists:\n",
    "        for obj_name in obj_list:\n",
    "            with open(partNet_path + model_idx + '/objs/' + obj_name + '.obj', 'r') as obj_file:\n",
    "                obj_lines = [line for line in obj_file]\n",
    "                vert_offset_global = appendOBJ(obj_lines, output_obj_file, vert_offset_global)\n",
    "                vert_offset_part = appendOBJ(obj_lines, output_obj_part_file, vert_offset_part)\n",
    "    output_obj_part_file.close()\n",
    "\n",
    "# close output file\n",
    "output_obj_file.close()\n",
    "print('Output saved to file', output_filename)"
   ]
  },
  {
   "cell_type": "code",
   "execution_count": null,
   "id": "romance-consideration",
   "metadata": {},
   "outputs": [],
   "source": []
  }
 ],
 "metadata": {
  "kernelspec": {
   "display_name": "Python 3",
   "language": "python",
   "name": "python3"
  },
  "language_info": {
   "codemirror_mode": {
    "name": "ipython",
    "version": 3
   },
   "file_extension": ".py",
   "mimetype": "text/x-python",
   "name": "python",
   "nbconvert_exporter": "python",
   "pygments_lexer": "ipython3",
   "version": "3.8.8"
  }
 },
 "nbformat": 4,
 "nbformat_minor": 5
}
